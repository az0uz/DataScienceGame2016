{
 "cells": [
  {
   "cell_type": "code",
   "execution_count": 1,
   "metadata": {
    "collapsed": true
   },
   "outputs": [],
   "source": [
    "import pandas as pd\n",
    "import numpy as np\n",
    "import xgboost as xgb\n",
    "import cPickle as pickle"
   ]
  },
  {
   "cell_type": "code",
   "execution_count": 2,
   "metadata": {
    "collapsed": true
   },
   "outputs": [],
   "source": [
    "### Use a previoulsy trained model and the precomputed extra features to make a prediction on a new test_set"
   ]
  },
  {
   "cell_type": "code",
   "execution_count": 3,
   "metadata": {
    "collapsed": true
   },
   "outputs": [],
   "source": [
    "\n",
    "\n",
    "\n",
    "\n",
    "\n",
    "#model_v5_fold0_40.pic\n",
    "#model_v5_fold2.pic\n",
    "#model_v6FSter_fold2.pic\n",
    "\n"
   ]
  },
  {
   "cell_type": "code",
   "execution_count": 4,
   "metadata": {
    "collapsed": true
   },
   "outputs": [],
   "source": [
    "file_name = './Final_models/model_v5_fold2.pic'\n",
    "save_Y_name = './Final_results/Y_priv_v5_fold2.predict'\n",
    "\n",
    "test_set = pd.read_csv('../data/X_priv.csv')\n",
    "augmented_features_antoine_test = pd.read_csv('./AugmentedFeaturesPriv.zip')\n",
    "augmented_features_alex_test = pd.read_csv('./lda_features_5_priv_topics_df.csv')"
   ]
  },
  {
   "cell_type": "code",
   "execution_count": 5,
   "metadata": {
    "collapsed": true
   },
   "outputs": [],
   "source": [
    "def try_to_hash(dico, v) :\n",
    "    try :\n",
    "        return dico[v]\n",
    "    except :\n",
    "        return -1\n",
    "\n",
    "def preprocess_test_data( df,continuous_factors, OHE_factors, Hashing_dict, Hash_factors,  training_factors ) :\n",
    "    \n",
    "    final_factors_test = []\n",
    "    res_data = pd.DataFrame()\n",
    "    print 'Creating Dummies'\n",
    "    for factor in OHE_factors :\n",
    "        #df[factor].fillna('null', inplace = True)\n",
    "        print factor\n",
    "        res_data= pd.concat([res_data, pd.get_dummies(df[factor], prefix = factor)], axis = 1)\n",
    "        final_factors_test.extend([str(factor)+'_'+str(x) for x in list(set(df[factor]))])\n",
    "    print 'Done for Dummies!\\n'\n",
    "    \n",
    "    print 'Hashing Factors...'\n",
    "    for f in Hash_factors:\n",
    "        print f\n",
    "        hashing_dict = Hashing_dict[f]\n",
    "        res_data[f] = df[f].map(lambda x : try_to_hash(hashing_dict,x))\n",
    "        final_factors_test.append(f)\n",
    "    print 'Done for HashFactors!\\n'\n",
    "    \n",
    "    print 'Continuous Factors'\n",
    "    final_factors_test.extend(continuous_factors)\n",
    "    res_data =pd.concat([res_data,df[continuous_factors] ], axis = 1)\n",
    "    \n",
    "    print '---------------'\n",
    "    print 'Missing Factors'\n",
    "    for f in training_factors :\n",
    "        if f not in final_factors_test :\n",
    "            print f\n",
    "            res_data[f] = -1\n",
    "    #res_data.fillna(-1, inplace = True)      \n",
    "    res_data = res_data[training_factors]\n",
    "    return (np.matrix(res_data.values), final_factors_test)"
   ]
  },
  {
   "cell_type": "code",
   "execution_count": 6,
   "metadata": {
    "collapsed": false
   },
   "outputs": [],
   "source": [
    "\n",
    "\n",
    "saved_results = pickle.load(open(file_name, 'rb'))\n",
    "\n",
    "model, continuous_var, OHE_factors, Hashing_dict, Hash_factors, final_factors  = saved_results['model'], saved_results['continuous_factors'], saved_results['OHE_factors'], saved_results['Hashing_dict'], saved_results['Hash_factors'], saved_results['training_factors']"
   ]
  },
  {
   "cell_type": "code",
   "execution_count": 7,
   "metadata": {
    "collapsed": true
   },
   "outputs": [],
   "source": [
    "## download test set and verify nul values!"
   ]
  },
  {
   "cell_type": "code",
   "execution_count": 8,
   "metadata": {
    "collapsed": true
   },
   "outputs": [],
   "source": [
    "\n",
    "\n",
    "test_set['IsPolicyholderAHomeowner'] = test_set['IsPolicyholderAHomeowner'].fillna(-1)\n",
    "test_set['SCID'] = test_set['SCID'].fillna(-1)\n",
    "\n",
    "\n",
    "to_0_1 = ['CarFuelId', 'CarTransmissionId']\n",
    "test_set[to_0_1] = test_set[to_0_1].apply(lambda x : x - 1)"
   ]
  },
  {
   "cell_type": "code",
   "execution_count": 9,
   "metadata": {
    "collapsed": false
   },
   "outputs": [],
   "source": [
    "\n",
    "\n",
    "feat_name = [ u'VariationCarUsageId',\n",
    "       u'VariationFirstDriverDrivingLicenseNumberY',\n",
    "       u'VariationCoverIsNoClaimDiscountSelected',\n",
    "       u'VariationIsPolicyholderAHomeowner', u'isMostFrequentCarMakeId',\n",
    "       u'VariationVoluntaryExcess',\n",
    "       u'VariationPolicyHolderNoClaimDiscountYears', u'VariationCarAge',\n",
    "       u'VariationCarMakeId', u'rowNumberForUser', u'VariationCarInsuredValue',\n",
    "       u'VariationCarParkingTypeId',\n",
    "       u'isMostFrequentFirstDriverDrivingLicenseNumberY',\n",
    "       u'VariationCarAnnualMileage', u'driverPerCar',\n",
    "       u'VariationDaysSinceCarPurchase', u'VariationCarDrivingEntitlement']\n",
    "\n",
    "#continuous_var = continuous_var + feat_name\n",
    "\n",
    "test_set = pd.concat([test_set, augmented_features_antoine_test[feat_name]], axis = 1)"
   ]
  },
  {
   "cell_type": "code",
   "execution_count": 10,
   "metadata": {
    "collapsed": true
   },
   "outputs": [],
   "source": [
    "## Features Alex"
   ]
  },
  {
   "cell_type": "code",
   "execution_count": 11,
   "metadata": {
    "collapsed": false
   },
   "outputs": [],
   "source": [
    "\n",
    "feature_name_alex = augmented_features_alex_test.columns.tolist()\n",
    "\n",
    "\n",
    "test_set = pd.concat([test_set, augmented_features_alex_test[feature_name_alex]], axis = 1)"
   ]
  },
  {
   "cell_type": "code",
   "execution_count": 12,
   "metadata": {
    "collapsed": true
   },
   "outputs": [],
   "source": [
    "def simplify_scid(x) :\n",
    "    if x == 'B01851' :\n",
    "        return 0\n",
    "    elif x == 'A04402' :\n",
    "        return 1\n",
    "    elif x == 'A10099' :\n",
    "        return 2\n",
    "    elif x == 'B02196' :\n",
    "        return 3\n",
    "    elif x == 'A08213' :\n",
    "        return 4\n",
    "    elif x == 'A03440' :\n",
    "        return 5\n",
    "    elif x == 'A04955' :\n",
    "        return 6\n",
    "    elif x == 'A09963' :\n",
    "        return 7\n",
    "    elif x == 'B01604' :\n",
    "        return 8\n",
    "    elif x == 'A06439' :\n",
    "        return 9\n",
    "    else :\n",
    "        return 10\n",
    "    \n",
    "def simplify_affinity(x) :\n",
    "    \n",
    "    if x == 0 :\n",
    "        return 0\n",
    "    elif x == 31 :\n",
    "        return 1\n",
    "    elif x==39 :\n",
    "        return 2\n",
    "    else :\n",
    "        return 3\n",
    "    \n",
    "def simplify_DrivingLicense(x) :\n",
    "    if (x % 10) in [0,1] :\n",
    "        return 0\n",
    "    elif (x % 10) in [5,6] :\n",
    "        return 1\n",
    "    else :\n",
    "        return 2"
   ]
  },
  {
   "cell_type": "code",
   "execution_count": 13,
   "metadata": {
    "collapsed": false
   },
   "outputs": [
    {
     "name": "stdout",
     "output_type": "stream",
     "text": [
      "Done!\n"
     ]
    }
   ],
   "source": [
    "test_set.SCID = test_set.SCID.apply(simplify_scid)\n",
    "test_set.AffinityCodeId = test_set.AffinityCodeId.apply(simplify_affinity)\n",
    "test_set.FirstDriverDrivingLicenseNumberY = test_set.FirstDriverDrivingLicenseNumberY.apply(simplify_DrivingLicense)\n",
    "print 'Done!'"
   ]
  },
  {
   "cell_type": "code",
   "execution_count": 14,
   "metadata": {
    "collapsed": false
   },
   "outputs": [
    {
     "name": "stdout",
     "output_type": "stream",
     "text": [
      "Creating Dummies\n",
      "SCID\n",
      "FirstDriverDrivingLicenseNumberY\n",
      "FirstDriverMaritalStatus\n",
      "CarUsageId\n",
      "CarParkingTypeId\n",
      "FirstDriverDrivingLicenceType\n",
      "CarDrivingEntitlement\n",
      "CarMakeId\n",
      "NameOfPolicyProduct\n",
      "AffinityCodeId\n",
      "Done for Dummies!\n",
      "\n",
      "Hashing Factors...\n",
      "Done for HashFactors!\n",
      "\n",
      "Continuous Factors\n",
      "---------------\n",
      "Missing Factors\n",
      "CarMakeId_37.0\n"
     ]
    }
   ],
   "source": [
    "X_test, final_factors_test = preprocess_test_data(test_set, continuous_var, OHE_factors, Hashing_dict, Hash_factors, final_factors  )\n"
   ]
  },
  {
   "cell_type": "code",
   "execution_count": 15,
   "metadata": {
    "collapsed": false
   },
   "outputs": [
    {
     "data": {
      "text/plain": [
       "(302047, 137)"
      ]
     },
     "execution_count": 15,
     "metadata": {},
     "output_type": "execute_result"
    }
   ],
   "source": [
    "X_test.shape"
   ]
  },
  {
   "cell_type": "code",
   "execution_count": 16,
   "metadata": {
    "collapsed": true
   },
   "outputs": [],
   "source": [
    "dtest = xgb.DMatrix(X_test)\n",
    "dtest = xgb.DMatrix(X_test)\n",
    "predictions_test = model.predict(dtest, ntree_limit=model.best_ntree_limit)"
   ]
  },
  {
   "cell_type": "code",
   "execution_count": null,
   "metadata": {
    "collapsed": true
   },
   "outputs": [],
   "source": []
  },
  {
   "cell_type": "code",
   "execution_count": 17,
   "metadata": {
    "collapsed": true
   },
   "outputs": [],
   "source": [
    "def create_submission_file(predictions_test) :\n",
    "    df = pd.DataFrame([ {'Converted': e} for e in predictions_test])\n",
    "    df.to_csv(save_Y_name, index = None, header = None)"
   ]
  },
  {
   "cell_type": "code",
   "execution_count": 18,
   "metadata": {
    "collapsed": true
   },
   "outputs": [],
   "source": [
    "create_submission_file(predictions_test)"
   ]
  },
  {
   "cell_type": "code",
   "execution_count": null,
   "metadata": {
    "collapsed": true
   },
   "outputs": [],
   "source": []
  }
 ],
 "metadata": {
  "kernelspec": {
   "display_name": "Python [Root]",
   "language": "python",
   "name": "Python [Root]"
  },
  "language_info": {
   "codemirror_mode": {
    "name": "ipython",
    "version": 2
   },
   "file_extension": ".py",
   "mimetype": "text/x-python",
   "name": "python",
   "nbconvert_exporter": "python",
   "pygments_lexer": "ipython2",
   "version": "2.7.12"
  }
 },
 "nbformat": 4,
 "nbformat_minor": 0
}
