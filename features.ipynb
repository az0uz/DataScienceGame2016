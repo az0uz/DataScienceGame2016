{
 "cells": [
  {
   "cell_type": "code",
   "execution_count": 1,
   "metadata": {
    "collapsed": false
   },
   "outputs": [
    {
     "name": "stdout",
     "output_type": "stream",
     "text": [
      "import data time: 1.72733211517\n"
     ]
    }
   ],
   "source": [
    "from dsglib import getFile\n",
    "import time\n",
    "\n",
    "start = time.time()\n",
    "userDict,labelNames = getFile('data/X_priv.csv')\n",
    "stop = time.time()\n",
    "\n",
    "print('import data time: '+str(stop-start))"
   ]
  },
  {
   "cell_type": "code",
   "execution_count": 2,
   "metadata": {
    "collapsed": false
   },
   "outputs": [
    {
     "name": "stdout",
     "output_type": "stream",
     "text": [
      "Numerize time: 0.149775028229\n"
     ]
    }
   ],
   "source": [
    "# convert '' to -1 for IsPolicyholderAHomeowner\n",
    "start=time.time()\n",
    "\n",
    "IsPolicyholderAHomeownerIndex = labelNames.index('IsPolicyholderAHomeowner')\n",
    "for user in userDict.values():\n",
    "    for row in user:\n",
    "        if(row[IsPolicyholderAHomeownerIndex]==''):\n",
    "            row[IsPolicyholderAHomeownerIndex] = '-1'\n",
    "stop=time.time()\n",
    "\n",
    "print('Numerize time: '+str(stop-start))"
   ]
  },
  {
   "cell_type": "code",
   "execution_count": 3,
   "metadata": {
    "collapsed": false
   },
   "outputs": [],
   "source": [
    "import numpy as np\n",
    "\n",
    "def stdv(values):\n",
    "    return np.std(values)\n",
    "def nu(values):\n",
    "    return len(np.unique(values))\n",
    "def isMostFrequent(values):\n",
    "    un,ct = np.unique(values, return_counts=True)\n",
    "    mostFrequent=un[np.argmax(ct)]\n",
    "    return map(int,values==mostFrequent)\n",
    "\n",
    "baseAugmentedFeatures = {\n",
    "'CarAnnualMileage': stdv,\n",
    "'CarUsageId': nu,\n",
    "'CarInsuredValue': stdv,\n",
    "'CarAge': stdv,\n",
    "'FirstDriverDrivingLicenseNumberY': nu,\n",
    "'VoluntaryExcess': stdv,\n",
    "'CarParkingTypeId': nu, \n",
    "'PolicyHolderNoClaimDiscountYears': stdv,\n",
    "'CoverIsNoClaimDiscountSelected': nu,\n",
    "'CarDrivingEntitlement': nu,\n",
    "'IsPolicyholderAHomeowner': nu,\n",
    "'CarMakeId': nu,\n",
    "'DaysSinceCarPurchase': stdv}"
   ]
  },
  {
   "cell_type": "code",
   "execution_count": 4,
   "metadata": {
    "collapsed": false
   },
   "outputs": [],
   "source": [
    "# convert featuresDict Names to Indexes\n",
    "baseAugmentedFeaturesIndexes = {}\n",
    "for featureName,featureFunc in baseAugmentedFeatures.items():\n",
    "    featureIndex = labelNames.index(featureName)\n",
    "    baseAugmentedFeaturesIndexes[featureIndex] = {'name': featureName, 'func': featureFunc}\n"
   ]
  },
  {
   "cell_type": "code",
   "execution_count": 5,
   "metadata": {
    "collapsed": false
   },
   "outputs": [
    {
     "name": "stdout",
     "output_type": "stream",
     "text": [
      "compute feature time: 12.3842520714\n"
     ]
    }
   ],
   "source": [
    "# computeFeatures\n",
    "start = time.time()\n",
    "\n",
    "FirstDriverDrivingLicenseNumberYIndex = labelNames.index('FirstDriverDrivingLicenseNumberY')\n",
    "CarMakeIdIndex = labelNames.index('CarMakeId')\n",
    "\n",
    "newFeatures={}\n",
    "for user in userDict.values():\n",
    "    userNewFeatures = {}\n",
    "    for featureIndex,featureInfo in baseAugmentedFeaturesIndexes.items():\n",
    "        userFeatureArray = map(lambda row: float(row[featureIndex]), user)\n",
    "        featureValue = featureInfo['func'](userFeatureArray)\n",
    "        userNewFeatures['Variation'+featureInfo['name']] = featureValue\n",
    "    # - FirstDriverDrivingLicenseNumberY/CarMakeId\n",
    "    userNewFeatures['driverPerCar'] = float(userNewFeatures['VariationFirstDriverDrivingLicenseNumberY'])/userNewFeatures['VariationCarMakeId']\n",
    "    # - FirstDriverDrivingLicenseNumberY/isMain\n",
    "    FirstDriverDrivingLicenseNumberYMF = isMostFrequent(map(lambda row: float(row[FirstDriverDrivingLicenseNumberYIndex]), user))\n",
    "    # - CarMakeId/isMain\n",
    "    CarMakeIdMF = isMostFrequent(map(lambda row: float(row[CarMakeIdIndex]), user))\n",
    "    for idx,row in enumerate(user):\n",
    "        userNewFeatures['rowNumberForUser'] = len(user)\n",
    "        userNewFeatures['isMostFrequentFirstDriverDrivingLicenseNumberY']=FirstDriverDrivingLicenseNumberYMF[idx]\n",
    "        userNewFeatures['isMostFrequentCarMakeId']=CarMakeIdMF[idx]\n",
    "        newFeatures[row[0]] = userNewFeatures\n",
    "\n",
    "stop = time.time()\n",
    "print('compute feature time: '+str(stop-start))"
   ]
  },
  {
   "cell_type": "markdown",
   "metadata": {},
   "source": [
    "# Reorder and save"
   ]
  },
  {
   "cell_type": "code",
   "execution_count": 6,
   "metadata": {
    "collapsed": false
   },
   "outputs": [
    {
     "name": "stdout",
     "output_type": "stream",
     "text": [
      "save time: 4.8407099247\n"
     ]
    }
   ],
   "source": [
    "start=time.time()\n",
    "\n",
    "featuresNameList = newFeatures['0'].keys()\n",
    "with open('AugmentedFeaturesPriv.csv','w') as f:\n",
    "    f.write(','+','.join(featuresNameList)+'\\n')\n",
    "    for idx in xrange(len(newFeatures)):\n",
    "        f.write(str(idx)+',')\n",
    "        orderedFeatureArray = []\n",
    "        for featureName in featuresNameList:\n",
    "            orderedFeatureArray.append(str(newFeatures[str(idx)][featureName]))\n",
    "        f.write(','.join(orderedFeatureArray)+'\\n')\n",
    "\n",
    "stop=time.time()\n",
    "\n",
    "print('save time: '+str(stop-start))"
   ]
  },
  {
   "cell_type": "markdown",
   "metadata": {},
   "source": [
    "# Features Stats"
   ]
  },
  {
   "cell_type": "code",
   "execution_count": 7,
   "metadata": {
    "collapsed": false
   },
   "outputs": [],
   "source": [
    "#import pandas as pd\n",
    "#import pandas_profiling as pdpf\n",
    "#features_set = pd.read_csv('AugmentedFeaturesTrain.csv')\n",
    "#pdpf.ProfileReport(features_set)"
   ]
  },
  {
   "cell_type": "code",
   "execution_count": 8,
   "metadata": {
    "collapsed": false
   },
   "outputs": [],
   "source": [
    "#import pandas as pd\n",
    "#import pandas_profiling as pdpf\n",
    "#features_set = pd.read_csv('Y_test.predict')\n",
    "#pdpf.ProfileReport(features_set)"
   ]
  },
  {
   "cell_type": "code",
   "execution_count": null,
   "metadata": {
    "collapsed": true
   },
   "outputs": [],
   "source": []
  }
 ],
 "metadata": {
  "kernelspec": {
   "display_name": "Python [Root]",
   "language": "python",
   "name": "Python [Root]"
  },
  "language_info": {
   "codemirror_mode": {
    "name": "ipython",
    "version": 2
   },
   "file_extension": ".py",
   "mimetype": "text/x-python",
   "name": "python",
   "nbconvert_exporter": "python",
   "pygments_lexer": "ipython2",
   "version": "2.7.12"
  }
 },
 "nbformat": 4,
 "nbformat_minor": 0
}
